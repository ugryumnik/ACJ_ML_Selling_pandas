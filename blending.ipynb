{
 "cells": [
  {
   "cell_type": "code",
   "execution_count": 1,
   "id": "4080d969-6dc9-4ed5-954b-1cd6a6010086",
   "metadata": {
    "tags": []
   },
   "outputs": [],
   "source": [
    "import pandas as pd"
   ]
  },
  {
   "cell_type": "code",
   "execution_count": 2,
   "id": "613b6b4c-4dc7-40cb-b381-a46a56c221ab",
   "metadata": {
    "tags": []
   },
   "outputs": [],
   "source": [
    "lightgbm_preds = pd.read_csv(\"submissions/lightgbm.csv\")\n",
    "rnn_preds = pd.read_csv(\"submissions/rnn.csv\")\n",
    "\n",
    "preds = [lightgbm_preds, rnn_preds]\n",
    "weights = [1, 0.6]\n",
    "\n",
    "submit = lightgbm_preds.copy()\n",
    "\n",
    "submit['score'] = sum(pred['score'] * weights[i] for i, pred in enumerate(preds)) / sum(weights)\n",
    "\n",
    "submit.to_csv('submissions/blended_lgbm_rnn.csv', index=False)"
   ]
  },
  {
   "cell_type": "code",
   "execution_count": 3,
   "id": "5e6b6802-358f-478f-85a5-2923bb4e6b7b",
   "metadata": {
    "tags": []
   },
   "outputs": [
    {
     "data": {
      "text/html": [
       "<div>\n",
       "<style scoped>\n",
       "    .dataframe tbody tr th:only-of-type {\n",
       "        vertical-align: middle;\n",
       "    }\n",
       "\n",
       "    .dataframe tbody tr th {\n",
       "        vertical-align: top;\n",
       "    }\n",
       "\n",
       "    .dataframe thead th {\n",
       "        text-align: right;\n",
       "    }\n",
       "</style>\n",
       "<table border=\"1\" class=\"dataframe\">\n",
       "  <thead>\n",
       "    <tr style=\"text-align: right;\">\n",
       "      <th></th>\n",
       "      <th>clientbankpartner_pin</th>\n",
       "      <th>score</th>\n",
       "    </tr>\n",
       "  </thead>\n",
       "  <tbody>\n",
       "    <tr>\n",
       "      <th>0</th>\n",
       "      <td>6781</td>\n",
       "      <td>0.011001</td>\n",
       "    </tr>\n",
       "    <tr>\n",
       "      <th>1</th>\n",
       "      <td>236905</td>\n",
       "      <td>0.054957</td>\n",
       "    </tr>\n",
       "    <tr>\n",
       "      <th>2</th>\n",
       "      <td>125779</td>\n",
       "      <td>0.206463</td>\n",
       "    </tr>\n",
       "    <tr>\n",
       "      <th>3</th>\n",
       "      <td>1952</td>\n",
       "      <td>0.215587</td>\n",
       "    </tr>\n",
       "    <tr>\n",
       "      <th>4</th>\n",
       "      <td>4872</td>\n",
       "      <td>0.544017</td>\n",
       "    </tr>\n",
       "    <tr>\n",
       "      <th>...</th>\n",
       "      <td>...</td>\n",
       "      <td>...</td>\n",
       "    </tr>\n",
       "    <tr>\n",
       "      <th>4503</th>\n",
       "      <td>121120</td>\n",
       "      <td>0.402171</td>\n",
       "    </tr>\n",
       "    <tr>\n",
       "      <th>4504</th>\n",
       "      <td>60667</td>\n",
       "      <td>0.621187</td>\n",
       "    </tr>\n",
       "    <tr>\n",
       "      <th>4505</th>\n",
       "      <td>5065</td>\n",
       "      <td>0.640383</td>\n",
       "    </tr>\n",
       "    <tr>\n",
       "      <th>4506</th>\n",
       "      <td>133125</td>\n",
       "      <td>0.459291</td>\n",
       "    </tr>\n",
       "    <tr>\n",
       "      <th>4507</th>\n",
       "      <td>121963</td>\n",
       "      <td>0.491859</td>\n",
       "    </tr>\n",
       "  </tbody>\n",
       "</table>\n",
       "<p>4508 rows × 2 columns</p>\n",
       "</div>"
      ],
      "text/plain": [
       "      clientbankpartner_pin     score\n",
       "0                      6781  0.011001\n",
       "1                    236905  0.054957\n",
       "2                    125779  0.206463\n",
       "3                      1952  0.215587\n",
       "4                      4872  0.544017\n",
       "...                     ...       ...\n",
       "4503                 121120  0.402171\n",
       "4504                  60667  0.621187\n",
       "4505                   5065  0.640383\n",
       "4506                 133125  0.459291\n",
       "4507                 121963  0.491859\n",
       "\n",
       "[4508 rows x 2 columns]"
      ]
     },
     "execution_count": 3,
     "metadata": {},
     "output_type": "execute_result"
    }
   ],
   "source": [
    "submit"
   ]
  },
  {
   "cell_type": "code",
   "execution_count": null,
   "id": "11883c2e-f8d5-421f-b295-9b860acc3d24",
   "metadata": {},
   "outputs": [],
   "source": []
  }
 ],
 "metadata": {
  "kernelspec": {
   "display_name": "Python 3 (ipykernel)",
   "language": "python",
   "name": "python3"
  },
  "language_info": {
   "codemirror_mode": {
    "name": "ipython",
    "version": 3
   },
   "file_extension": ".py",
   "mimetype": "text/x-python",
   "name": "python",
   "nbconvert_exporter": "python",
   "pygments_lexer": "ipython3",
   "version": "3.11.4"
  }
 },
 "nbformat": 4,
 "nbformat_minor": 5
}
