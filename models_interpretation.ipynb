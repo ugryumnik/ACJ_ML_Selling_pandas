{
 "cells": [
  {
   "cell_type": "code",
   "execution_count": 3,
   "id": "f8f3330c-3228-4dc7-a43f-3bdcd4efd8ec",
   "metadata": {
    "tags": []
   },
   "outputs": [],
   "source": [
    "import lightgbm as lgb"
   ]
  },
  {
   "cell_type": "code",
   "execution_count": null,
   "id": "36a15e01-8b93-4de5-a053-46f7b27e9f75",
   "metadata": {},
   "outputs": [],
   "source": []
  },
  {
   "cell_type": "code",
   "execution_count": 6,
   "id": "038c7287-39d6-4f93-beef-49bc301afbed",
   "metadata": {
    "tags": []
   },
   "outputs": [
    {
     "name": "stdout",
     "output_type": "stream",
     "text": [
      "mkdir: val_preds: File exists\n",
      "mkdir: submissions: File exists\n",
      "mkdir: weights: File exists\n"
     ]
    }
   ],
   "source": [
    "import pandas as pd\n",
    "import numpy as np\n",
    "import time\n",
    "from tqdm import tqdm\n",
    "\n",
    "from lightgbm import LGBMClassifier, train, Dataset, Booster\n",
    "# from xgboost import XGBClassifier\n",
    "# from catboost import CatBoostClassifier\n",
    "\n",
    "\n",
    "import shap\n",
    "\n",
    "import optuna\n",
    "\n",
    "from sklearn.metrics import roc_auc_score\n",
    "\n",
    "from optuna_tuning import tune_hyperparams # Кастомная функция для тюнинга параметров\n",
    "\n",
    "import matplotlib.pyplot as plt\n",
    "import seaborn as sns\n",
    "\n",
    "import warnings\n",
    "warnings.filterwarnings(\"ignore\")\n",
    "\n",
    "\n",
    "!mkdir val_preds\n",
    "!mkdir submissions\n",
    "!mkdir weights"
   ]
  },
  {
   "cell_type": "code",
   "execution_count": 7,
   "id": "fa5502f2-5b39-4596-821c-2c3a7f05c0b7",
   "metadata": {
    "tags": []
   },
   "outputs": [],
   "source": [
    "df = pd.read_csv('data/dataset_fixed.csv')\n",
    "sample_submission = pd.read_csv('data/submission_example.csv')"
   ]
  },
  {
   "cell_type": "code",
   "execution_count": 8,
   "id": "d5f20255-1cfd-4478-9a25-4683e038a166",
   "metadata": {
    "tags": []
   },
   "outputs": [],
   "source": [
    "# Считываем данные\n",
    "X_train = pd.read_parquet('data/X_train_processed.parquet').drop(columns=['partition'])\n",
    "X_train_full = pd.read_parquet('data/X_train_full_processed.parquet').drop(columns=['partition'])\n",
    "X_val = pd.read_parquet('data/X_val_processed.parquet')\n",
    "X_test = pd.read_parquet('data/X_test_processed.parquet')\n",
    "y_train = pd.read_parquet('data/y_train_processed.parquet')\n",
    "y_train_full = pd.read_parquet('data/y_train_full_processed.parquet')\n",
    "y_val = pd.read_parquet('data/y_val_processed.parquet')\n",
    "sample_submission = pd.read_csv('data/submission_example.csv')\n",
    "submit = sample_submission.copy()"
   ]
  },
  {
   "cell_type": "code",
   "execution_count": 10,
   "id": "7dbdfc2f-08c7-41b0-a1f3-ddd3abe51097",
   "metadata": {
    "tags": []
   },
   "outputs": [],
   "source": [
    "cat_cols = ['type']\n",
    "num_cols = [col for col in X_train if col not in cat_cols]"
   ]
  },
  {
   "cell_type": "code",
   "execution_count": 11,
   "id": "a3915a3b-429b-4aad-8f01-5e22b11c2802",
   "metadata": {
    "tags": []
   },
   "outputs": [],
   "source": [
    "X_val_new = X_val.copy()\n",
    "X_test_new = X_test.copy()\n",
    "\n",
    "# Нормируем числовые переменные: приводим данные в валидации к масштабу трейна, данные в тесте к масштабу полного трейна\n",
    "X_val_new[num_cols] = X_val[num_cols] * X_train[num_cols].mean() / X_val[num_cols].mean()\n",
    "X_test_new[num_cols] = X_test_new[num_cols] * X_train_full[num_cols].mean() / X_test[num_cols].mean()"
   ]
  },
  {
   "cell_type": "code",
   "execution_count": null,
   "id": "b2b3f8bd-0820-4c5e-8e46-664045637ef5",
   "metadata": {},
   "outputs": [],
   "source": []
  },
  {
   "cell_type": "code",
   "execution_count": null,
   "id": "a51c9f4d-5230-4655-99ab-6cd8f178b750",
   "metadata": {},
   "outputs": [],
   "source": []
  },
  {
   "cell_type": "code",
   "execution_count": null,
   "id": "0fcd1522-3e99-4813-a8ca-92bcb79aefdd",
   "metadata": {},
   "outputs": [],
   "source": []
  },
  {
   "cell_type": "code",
   "execution_count": 5,
   "id": "47dcb8a7-ee4c-4564-96f0-abd635970e6c",
   "metadata": {},
   "outputs": [],
   "source": [
    "model_l = lgb.Booster(model_file='weights/lightgbm.txt')"
   ]
  },
  {
   "cell_type": "code",
   "execution_count": 13,
   "id": "8ac5c381-bee8-4e8e-b918-2913f8d572e5",
   "metadata": {
    "tags": []
   },
   "outputs": [],
   "source": [
    "preds = model_l.predict(X_val_new)"
   ]
  },
  {
   "cell_type": "code",
   "execution_count": null,
   "id": "b323cb8c-3f21-463e-98c0-3856ae1481c7",
   "metadata": {},
   "outputs": [],
   "source": []
  },
  {
   "cell_type": "code",
   "execution_count": 14,
   "id": "ee1a4f49-1430-45d4-9e44-46753b7f2594",
   "metadata": {
    "tags": []
   },
   "outputs": [],
   "source": [
    "from sklearn.calibration import calibration_curve"
   ]
  },
  {
   "cell_type": "code",
   "execution_count": null,
   "id": "ae27b471-a2d1-447b-9e3c-f97a0e6b4962",
   "metadata": {},
   "outputs": [],
   "source": []
  },
  {
   "cell_type": "code",
   "execution_count": null,
   "id": "fb48a489-0ba4-4e54-b1e1-29f9e41f1d07",
   "metadata": {},
   "outputs": [],
   "source": []
  },
  {
   "cell_type": "code",
   "execution_count": 31,
   "id": "ee76ba18-5e19-4a40-a7e2-415b5a508912",
   "metadata": {
    "tags": []
   },
   "outputs": [
    {
     "data": {
      "text/plain": [
       "array([0.62470019, 0.54573451, 0.67790691, ..., 0.50383262, 0.40334446,\n",
       "       0.18520882])"
      ]
     },
     "execution_count": 31,
     "metadata": {},
     "output_type": "execute_result"
    }
   ],
   "source": [
    "preds"
   ]
  },
  {
   "cell_type": "code",
   "execution_count": 63,
   "id": "3e92688b-afef-4a6e-8a55-3b03d9f8b451",
   "metadata": {
    "tags": []
   },
   "outputs": [],
   "source": [
    "preds = pd.read_csv('submissions/blended_lgbm_rnn.csv')"
   ]
  },
  {
   "cell_type": "code",
   "execution_count": null,
   "id": "11bc1ad0-feff-48c7-a19d-eaeaa414d278",
   "metadata": {},
   "outputs": [],
   "source": []
  },
  {
   "cell_type": "code",
   "execution_count": 64,
   "id": "a06d6167-606e-426c-822b-36b2e93ba037",
   "metadata": {
    "tags": []
   },
   "outputs": [
    {
     "ename": "ValueError",
     "evalue": "Columns must be same length as key",
     "output_type": "error",
     "traceback": [
      "\u001b[0;31m---------------------------------------------------------------------------\u001b[0m",
      "\u001b[0;31mValueError\u001b[0m                                Traceback (most recent call last)",
      "Cell \u001b[0;32mIn[64], line 1\u001b[0m\n\u001b[0;32m----> 1\u001b[0m y_val[\u001b[38;5;124m'\u001b[39m\u001b[38;5;124mpred\u001b[39m\u001b[38;5;124m'\u001b[39m] \u001b[38;5;241m=\u001b[39m preds\n\u001b[1;32m      2\u001b[0m y_val\n",
      "File \u001b[0;32m~/anaconda3/lib/python3.11/site-packages/pandas/core/frame.py:4301\u001b[0m, in \u001b[0;36mDataFrame.__setitem__\u001b[0;34m(self, key, value)\u001b[0m\n\u001b[1;32m   4299\u001b[0m     \u001b[38;5;28mself\u001b[39m\u001b[38;5;241m.\u001b[39m_setitem_array(key, value)\n\u001b[1;32m   4300\u001b[0m \u001b[38;5;28;01melif\u001b[39;00m \u001b[38;5;28misinstance\u001b[39m(value, DataFrame):\n\u001b[0;32m-> 4301\u001b[0m     \u001b[38;5;28mself\u001b[39m\u001b[38;5;241m.\u001b[39m_set_item_frame_value(key, value)\n\u001b[1;32m   4302\u001b[0m \u001b[38;5;28;01melif\u001b[39;00m (\n\u001b[1;32m   4303\u001b[0m     is_list_like(value)\n\u001b[1;32m   4304\u001b[0m     \u001b[38;5;129;01mand\u001b[39;00m \u001b[38;5;129;01mnot\u001b[39;00m \u001b[38;5;28mself\u001b[39m\u001b[38;5;241m.\u001b[39mcolumns\u001b[38;5;241m.\u001b[39mis_unique\n\u001b[1;32m   4305\u001b[0m     \u001b[38;5;129;01mand\u001b[39;00m \u001b[38;5;241m1\u001b[39m \u001b[38;5;241m<\u001b[39m \u001b[38;5;28mlen\u001b[39m(\u001b[38;5;28mself\u001b[39m\u001b[38;5;241m.\u001b[39mcolumns\u001b[38;5;241m.\u001b[39mget_indexer_for([key])) \u001b[38;5;241m==\u001b[39m \u001b[38;5;28mlen\u001b[39m(value)\n\u001b[1;32m   4306\u001b[0m ):\n\u001b[1;32m   4307\u001b[0m     \u001b[38;5;66;03m# Column to set is duplicated\u001b[39;00m\n\u001b[1;32m   4308\u001b[0m     \u001b[38;5;28mself\u001b[39m\u001b[38;5;241m.\u001b[39m_setitem_array([key], value)\n",
      "File \u001b[0;32m~/anaconda3/lib/python3.11/site-packages/pandas/core/frame.py:4429\u001b[0m, in \u001b[0;36mDataFrame._set_item_frame_value\u001b[0;34m(self, key, value)\u001b[0m\n\u001b[1;32m   4427\u001b[0m len_cols \u001b[38;5;241m=\u001b[39m \u001b[38;5;241m1\u001b[39m \u001b[38;5;28;01mif\u001b[39;00m is_scalar(cols) \u001b[38;5;129;01mor\u001b[39;00m \u001b[38;5;28misinstance\u001b[39m(cols, \u001b[38;5;28mtuple\u001b[39m) \u001b[38;5;28;01melse\u001b[39;00m \u001b[38;5;28mlen\u001b[39m(cols)\n\u001b[1;32m   4428\u001b[0m \u001b[38;5;28;01mif\u001b[39;00m len_cols \u001b[38;5;241m!=\u001b[39m \u001b[38;5;28mlen\u001b[39m(value\u001b[38;5;241m.\u001b[39mcolumns):\n\u001b[0;32m-> 4429\u001b[0m     \u001b[38;5;28;01mraise\u001b[39;00m \u001b[38;5;167;01mValueError\u001b[39;00m(\u001b[38;5;124m\"\u001b[39m\u001b[38;5;124mColumns must be same length as key\u001b[39m\u001b[38;5;124m\"\u001b[39m)\n\u001b[1;32m   4431\u001b[0m \u001b[38;5;66;03m# align right-hand-side columns if self.columns\u001b[39;00m\n\u001b[1;32m   4432\u001b[0m \u001b[38;5;66;03m# is multi-index and self[key] is a sub-frame\u001b[39;00m\n\u001b[1;32m   4433\u001b[0m \u001b[38;5;28;01mif\u001b[39;00m \u001b[38;5;28misinstance\u001b[39m(\u001b[38;5;28mself\u001b[39m\u001b[38;5;241m.\u001b[39mcolumns, MultiIndex) \u001b[38;5;129;01mand\u001b[39;00m \u001b[38;5;28misinstance\u001b[39m(\n\u001b[1;32m   4434\u001b[0m     loc, (\u001b[38;5;28mslice\u001b[39m, Series, np\u001b[38;5;241m.\u001b[39mndarray, Index)\n\u001b[1;32m   4435\u001b[0m ):\n",
      "\u001b[0;31mValueError\u001b[0m: Columns must be same length as key"
     ]
    }
   ],
   "source": [
    "y_val['pred'] = preds\n",
    "y_val"
   ]
  },
  {
   "cell_type": "code",
   "execution_count": 49,
   "id": "0843c985-5b5c-4d11-ba0d-bb6ad732ed77",
   "metadata": {
    "tags": []
   },
   "outputs": [
    {
     "data": {
      "text/html": [
       "<div>\n",
       "<style scoped>\n",
       "    .dataframe tbody tr th:only-of-type {\n",
       "        vertical-align: middle;\n",
       "    }\n",
       "\n",
       "    .dataframe tbody tr th {\n",
       "        vertical-align: top;\n",
       "    }\n",
       "\n",
       "    .dataframe thead th {\n",
       "        text-align: right;\n",
       "    }\n",
       "</style>\n",
       "<table border=\"1\" class=\"dataframe\">\n",
       "  <thead>\n",
       "    <tr style=\"text-align: right;\">\n",
       "      <th></th>\n",
       "      <th>score</th>\n",
       "      <th>pred</th>\n",
       "      <th>bin</th>\n",
       "    </tr>\n",
       "    <tr>\n",
       "      <th>partner</th>\n",
       "      <th></th>\n",
       "      <th></th>\n",
       "      <th></th>\n",
       "    </tr>\n",
       "  </thead>\n",
       "  <tbody>\n",
       "    <tr>\n",
       "      <th>1</th>\n",
       "      <td>0</td>\n",
       "      <td>0.624700</td>\n",
       "      <td>7</td>\n",
       "    </tr>\n",
       "    <tr>\n",
       "      <th>2</th>\n",
       "      <td>0</td>\n",
       "      <td>0.545735</td>\n",
       "      <td>6</td>\n",
       "    </tr>\n",
       "    <tr>\n",
       "      <th>10</th>\n",
       "      <td>1</td>\n",
       "      <td>0.677907</td>\n",
       "      <td>7</td>\n",
       "    </tr>\n",
       "    <tr>\n",
       "      <th>17</th>\n",
       "      <td>1</td>\n",
       "      <td>0.702946</td>\n",
       "      <td>8</td>\n",
       "    </tr>\n",
       "    <tr>\n",
       "      <th>22</th>\n",
       "      <td>0</td>\n",
       "      <td>0.164851</td>\n",
       "      <td>2</td>\n",
       "    </tr>\n",
       "    <tr>\n",
       "      <th>...</th>\n",
       "      <td>...</td>\n",
       "      <td>...</td>\n",
       "      <td>...</td>\n",
       "    </tr>\n",
       "    <tr>\n",
       "      <th>333068</th>\n",
       "      <td>0</td>\n",
       "      <td>0.312301</td>\n",
       "      <td>4</td>\n",
       "    </tr>\n",
       "    <tr>\n",
       "      <th>333400</th>\n",
       "      <td>0</td>\n",
       "      <td>0.514210</td>\n",
       "      <td>6</td>\n",
       "    </tr>\n",
       "    <tr>\n",
       "      <th>333459</th>\n",
       "      <td>0</td>\n",
       "      <td>0.503833</td>\n",
       "      <td>6</td>\n",
       "    </tr>\n",
       "    <tr>\n",
       "      <th>333492</th>\n",
       "      <td>0</td>\n",
       "      <td>0.403344</td>\n",
       "      <td>5</td>\n",
       "    </tr>\n",
       "    <tr>\n",
       "      <th>333511</th>\n",
       "      <td>1</td>\n",
       "      <td>0.185209</td>\n",
       "      <td>2</td>\n",
       "    </tr>\n",
       "  </tbody>\n",
       "</table>\n",
       "<p>4059 rows × 3 columns</p>\n",
       "</div>"
      ],
      "text/plain": [
       "         score      pred  bin\n",
       "partner                      \n",
       "1            0  0.624700    7\n",
       "2            0  0.545735    6\n",
       "10           1  0.677907    7\n",
       "17           1  0.702946    8\n",
       "22           0  0.164851    2\n",
       "...        ...       ...  ...\n",
       "333068       0  0.312301    4\n",
       "333400       0  0.514210    6\n",
       "333459       0  0.503833    6\n",
       "333492       0  0.403344    5\n",
       "333511       1  0.185209    2\n",
       "\n",
       "[4059 rows x 3 columns]"
      ]
     },
     "execution_count": 49,
     "metadata": {},
     "output_type": "execute_result"
    }
   ],
   "source": [
    "n_bins=10\n",
    "bins = np.linspace(0, 1, n_bins+1)\n",
    "y_val['bin'] = np.digitize(y_val['pred'], bins)\n",
    "\n",
    "bins_count = y_val['bin'].value_counts()\n",
    "y_val = y_val[y_val.bin.isin(bins_count[bins_count>20].index)]\n",
    "y_val"
   ]
  },
  {
   "cell_type": "code",
   "execution_count": 65,
   "id": "fcb08a44-aeb4-4870-9250-08fb66281a6d",
   "metadata": {
    "tags": []
   },
   "outputs": [],
   "source": [
    "part_of_positive = y_val.groupby('bin')['score'].agg('mean')#.reset_index()"
   ]
  },
  {
   "cell_type": "code",
   "execution_count": 67,
   "id": "a072e410-d5cb-4e06-b268-78aa4afa47fd",
   "metadata": {
    "tags": []
   },
   "outputs": [
    {
     "data": {
      "text/plain": [
       "<matplotlib.legend.Legend at 0x29b9dfad0>"
      ]
     },
     "execution_count": 67,
     "metadata": {},
     "output_type": "execute_result"
    },
    {
     "data": {
      "image/png": "[encoded data removed]",
      "text/plain": [
       "<Figure size 640x480 with 1 Axes>"
      ]
     },
     "metadata": {},
     "output_type": "display_data"
    }
   ],
   "source": [
    "# part_of_positive\n",
    "plt.plot(part_of_positive.index/n_bins, part_of_positive, label='Предсказания')\n",
    "plt.plot([0, 1], label='y=x')\n",
    "plt.legend()"
   ]
  },
  {
   "cell_type": "code",
   "execution_count": 34,
   "id": "2cb2ec27-78ac-4b1b-99d4-f23412904dee",
   "metadata": {
    "tags": []
   },
   "outputs": [],
   "source": [
    "def plot_probabilities(, n_bins=10):\n",
    "    \n",
    "    \n",
    "    "
   ]
  },
  {
   "cell_type": "code",
   "execution_count": null,
   "id": "1d745a05-099b-494b-af2a-88bba4ee6b6c",
   "metadata": {},
   "outputs": [],
   "source": []
  },
  {
   "cell_type": "code",
   "execution_count": 24,
   "id": "0a2b1e85-1cbe-4d19-ac40-66a05e4af20d",
   "metadata": {
    "tags": []
   },
   "outputs": [
    {
     "data": {
      "text/plain": [
       "(array([0.04914005, 0.08866995, 0.18719212, 0.27832512, 0.33007335,\n",
       "        0.44779582, 0.47780679, 0.57462687, 0.69287469, 0.74384236]),\n",
       " array([0.04548978, 0.12158603, 0.18428017, 0.2493234 , 0.32054222,\n",
       "        0.39513786, 0.4605211 , 0.52655989, 0.60811176, 0.70524149]))"
      ]
     },
     "execution_count": 24,
     "metadata": {},
     "output_type": "execute_result"
    }
   ],
   "source": [
    "bins = calibration_curve(y_val, preds, n_bins=10, strategy='quantile')\n",
    "bins"
   ]
  },
  {
   "cell_type": "code",
   "execution_count": 26,
   "id": "8f97ef1e-8f3b-4e67-9347-acb5fc2df4e6",
   "metadata": {
    "tags": []
   },
   "outputs": [
    {
     "data": {
      "text/plain": [
       "[<matplotlib.lines.Line2D at 0x28dfbc490>]"
      ]
     },
     "execution_count": 26,
     "metadata": {},
     "output_type": "execute_result"
    },
    {
     "data": {
      "image/png": "[encoded data removed]",
      "text/plain": [
       "<Figure size 640x480 with 1 Axes>"
      ]
     },
     "metadata": {},
     "output_type": "display_data"
    }
   ],
   "source": [
    "plt.plot(bins[0], bins[1])\n",
    "plt.plot([0, 1])"
   ]
  },
  {
   "cell_type": "code",
   "execution_count": null,
   "id": "77402111-aeda-4e34-8554-b908ba6eea0e",
   "metadata": {},
   "outputs": [],
   "source": []
  }
 ],
 "metadata": {
  "kernelspec": {
   "display_name": "Python 3 (ipykernel)",
   "language": "python",
   "name": "python3"
  },
  "language_info": {
   "codemirror_mode": {
    "name": "ipython",
    "version": 3
   },
   "file_extension": ".py",
   "mimetype": "text/x-python",
   "name": "python",
   "nbconvert_exporter": "python",
   "pygments_lexer": "ipython3",
   "version": "3.11.4"
  }
 },
 "nbformat": 4,
 "nbformat_minor": 5
}
