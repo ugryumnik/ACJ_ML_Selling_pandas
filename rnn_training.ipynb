{
 "cells": [
  {
   "cell_type": "markdown",
   "id": "fa7a7c6d-6a57-43f8-8f64-6d2a9c4e66e7",
   "metadata": {
    "tags": []
   },
   "source": [
    "# Requirements"
   ]
  },
  {
   "cell_type": "code",
   "execution_count": 1,
   "id": "d1ef5823-73d3-44b5-a0cf-c874c773356c",
   "metadata": {
    "tags": []
   },
   "outputs": [
    {
     "name": "stdout",
     "output_type": "stream",
     "text": [
      "False\n"
     ]
    }
   ],
   "source": [
    "import os\n",
    "import pickle\n",
    "import torch\n",
    "import torch.nn as nn\n",
    "\n",
    "import warnings\n",
    "warnings.filterwarnings(\"ignore\")\n",
    "\n",
    "\n",
    "print(torch.cuda.is_available())\n",
    "\n",
    "from rnn_utils import seed_everything\n",
    "from data_generators import batches_generator\n",
    "from pytorch_training import train_epoch, validate, inference\n",
    "    \n",
    "!mkdir submissions\n",
    "!mkdir weights"
   ]
  },
  {
   "cell_type": "code",
   "execution_count": 2,
   "id": "5d156825-332b-43f3-adbe-fe40b66da861",
   "metadata": {
    "tags": []
   },
   "outputs": [],
   "source": [
    "with open('constants/uniques.pkl', 'rb') as f:\n",
    "     uniques = pickle.load(f)\n",
    "        \n",
    "with open('constants/di_features.pkl', 'rb') as f:\n",
    "     di_features = pickle.load(f)    "
   ]
  },
  {
   "cell_type": "code",
   "execution_count": 3,
   "id": "3b9da23b-396e-49a7-a173-3cd45fd6ae22",
   "metadata": {
    "tags": []
   },
   "outputs": [
    {
     "name": "stdout",
     "output_type": "stream",
     "text": [
      "26\n",
      "26\n",
      "1\n",
      "1\n"
     ]
    },
    {
     "data": {
      "text/plain": [
       "('buckets/train_full/processed_chunk_000.pkl',\n",
       " 'buckets/train_full/processed_chunk_025.pkl')"
      ]
     },
     "execution_count": 3,
     "metadata": {},
     "output_type": "execute_result"
    }
   ],
   "source": [
    "# Пути к бакетам\n",
    "\n",
    "path_to_dataset = 'buckets/train'\n",
    "dir_with_datasets = os.listdir(path_to_dataset)\n",
    "dataset_train = sorted([os.path.join(path_to_dataset, x) for x in dir_with_datasets if x.endswith('pkl')])\n",
    "dataset_train = dataset_train\n",
    "print(len(dataset_train))\n",
    "\n",
    "path_to_dataset = 'buckets/train_full'\n",
    "dir_with_datasets = os.listdir(path_to_dataset)\n",
    "dataset_train_full = sorted([os.path.join(path_to_dataset, x) for x in dir_with_datasets if x.endswith('pkl')])\n",
    "print(len(dataset_train_full))\n",
    "\n",
    "path_to_dataset = 'buckets/val'\n",
    "dir_with_datasets = os.listdir(path_to_dataset)\n",
    "dataset_val = sorted([os.path.join(path_to_dataset, x) for x in dir_with_datasets if x.endswith('pkl')])\n",
    "print(len(dataset_val))\n",
    "\n",
    "path_to_dataset = 'buckets/test'\n",
    "dir_with_datasets = os.listdir(path_to_dataset)\n",
    "dataset_test = sorted([os.path.join(path_to_dataset, x) for x in dir_with_datasets if x.endswith('pkl')])\n",
    "print(len(dataset_test))\n",
    "\n",
    "dataset_train_full[0], dataset_train_full[-1]"
   ]
  },
  {
   "cell_type": "code",
   "execution_count": 4,
   "id": "caa48915-8b2a-4627-83ca-3195aaae95cb",
   "metadata": {},
   "outputs": [],
   "source": [
    "def get_dataloader(type_of_loader, batch_size):\n",
    "    \"\"\"\n",
    "    Возвращается нужный DataLoader\n",
    "    :param type_of_loader: str (train/train_full/val/test,  Тип датасета)\n",
    "    :param batch_size: Размер батча\n",
    "    \"\"\"\n",
    "    if type_of_loader == 'train':\n",
    "        return batches_generator(dataset_train,\n",
    "                                         batch_size = batch_size,\n",
    "                                         has_target=True,\n",
    "                                         shuffle=True,\n",
    "                                         di_features = di_features\n",
    "                                        )\n",
    "    \n",
    "    elif type_of_loader == 'train_full':\n",
    "        return batches_generator(dataset_train_full,\n",
    "                                         batch_size = batch_size,\n",
    "                                         has_target=True,\n",
    "                                         shuffle=True,\n",
    "                                         di_features = di_features\n",
    "                                        )\n",
    "    \n",
    "    elif type_of_loader == 'val':\n",
    "        return batches_generator(dataset_val,\n",
    "                                     batch_size = batch_size,\n",
    "                                     has_target=True,\n",
    "                                     shuffle=False,\n",
    "                                     di_features = di_features\n",
    "                                    )\n",
    "    \n",
    "    elif type_of_loader == 'test':\n",
    "        return batches_generator(dataset_test,\n",
    "                                     batch_size = batch_size,\n",
    "                                     has_target=False,\n",
    "                                     shuffle=False,\n",
    "                                     di_features = di_features\n",
    "                                )\n",
    "                                 \n",
    "    else:\n",
    "        print('No such type of dataloader, available are: train, val, test, train_full')"
   ]
  },
  {
   "cell_type": "code",
   "execution_count": 5,
   "id": "069fd5d8-4ef1-4dd5-b3fd-207176cdc663",
   "metadata": {
    "tags": []
   },
   "outputs": [
    {
     "name": "stdout",
     "output_type": "stream",
     "text": [
      "Всего батчей: 1217\n"
     ]
    }
   ],
   "source": [
    "batch_size = 2**6\n",
    "\n",
    "dataloader_train = get_dataloader('train',\n",
    "                                     batch_size = batch_size,\n",
    "                                    )\n",
    "\n",
    "c = 0\n",
    "for batch in dataloader_train:\n",
    "    c += 1\n",
    "print('Всего батчей:', c)"
   ]
  },
  {
   "cell_type": "markdown",
   "id": "d5633ca1-871e-41c6-8cfb-ed7611cf301c",
   "metadata": {
    "tags": []
   },
   "source": [
    "# Model"
   ]
  },
  {
   "cell_type": "code",
   "execution_count": 6,
   "id": "bc86789e-c4f6-4ac9-8769-c3d4d5b84490",
   "metadata": {},
   "outputs": [],
   "source": [
    "# Рассчитываем размерность эмбеддинга\n",
    "\n",
    "def compute_embed_dim(n_cat: int) -> int:\n",
    "    return min(600, 2 * round(1.6 * n_cat**0.56))\n",
    "\n",
    "embedding_projections = dict()\n",
    "for feat, uniq in uniques.items():\n",
    "    embedding_projections[feat]=(max(uniq)+1, compute_embed_dim(max(uniq)+1)) # Число уникальных значений и размер эмбеддинга\n",
    "embedding_projections\n",
    "\n",
    "with open('constants/embedding_projections.pkl', 'wb') as f:\n",
    "    pickle.dump(embedding_projections, f)"
   ]
  },
  {
   "cell_type": "code",
   "execution_count": 7,
   "id": "c1296d04-fc64-47ca-9c1f-da5fdf364c16",
   "metadata": {},
   "outputs": [],
   "source": [
    "from rnn_model import ChurnPredictor # Импортируем класс модели"
   ]
  },
  {
   "cell_type": "code",
   "execution_count": 8,
   "id": "4adc5091-cf7f-4827-99f2-1f9ccf919c44",
   "metadata": {},
   "outputs": [],
   "source": [
    "device = torch.device('cuda' if torch.cuda.is_available() else 'cpu')\n",
    "\n",
    "\n",
    "class cfg:\n",
    "    use_embeds_pooling = False # Брать ли пулинги от эмбеддингов\n",
    "    is_bidirectional = True # Двунаправленная ли LSTM\n",
    "    spatial_dropout = 0.05 # Spatial dropout для эмбеддингов\n",
    "    rnn_units = 64 # Размер скрытого состояния LSTM\n",
    "    num_epochs = 10 # Число эпох\n",
    "    max_lr = 3e-4 # Максимальный learning rate в цикле\n",
    "    min_lr = max_lr / 5 # Минимальный learning rate в цикле\n",
    "    early_stopping_epochs = 10 # Число эпох для early stopping\n",
    "    device = device\n",
    "    di_features = di_features\n",
    "\n",
    "\n",
    "seed_everything(0)\n",
    "model = ChurnPredictor(di_features, embedding_projections, rnn_units=cfg.rnn_units, spatial_dropout=cfg.spatial_dropout, \n",
    "            use_embeds_pooling=cfg.use_embeds_pooling, is_bidirectional=cfg.is_bidirectional).to(device)\n",
    "\n",
    "optimizer = torch.optim.AdamW(lr=cfg.max_lr, params=model.parameters()) # Optimizer\n",
    "scheduler = torch.optim.lr_scheduler.CyclicLR(optimizer, base_lr=cfg.min_lr, max_lr=cfg.max_lr, cycle_momentum = False) # Cyclic Scheduler"
   ]
  },
  {
   "cell_type": "markdown",
   "id": "1138721e-6ba2-483d-a2a4-f75c0a760605",
   "metadata": {},
   "source": [
    "# Training"
   ]
  },
  {
   "cell_type": "code",
   "execution_count": 9,
   "id": "b9caa4ad-6da2-493f-8faa-dc45b30f6958",
   "metadata": {
    "collapsed": true,
    "jupyter": {
     "outputs_hidden": true
    },
    "tags": []
   },
   "outputs": [
    {
     "name": "stderr",
     "output_type": "stream",
     "text": [
      "1217it [00:08, 151.39it/s]\n"
     ]
    },
    {
     "name": "stdout",
     "output_type": "stream",
     "text": [
      "--------------------------------------------------\n",
      "Epoch: 0\n",
      "Train AUC: 0.5307649958687071\n",
      "Validation AUC: 0.7487030426071257\n"
     ]
    },
    {
     "name": "stderr",
     "output_type": "stream",
     "text": [
      "1217it [00:07, 161.39it/s]\n"
     ]
    },
    {
     "name": "stdout",
     "output_type": "stream",
     "text": [
      "--------------------------------------------------\n",
      "Epoch: 1\n",
      "Train AUC: 0.7559127620713482\n",
      "Validation AUC: 0.7718047210015397\n"
     ]
    },
    {
     "name": "stderr",
     "output_type": "stream",
     "text": [
      "1217it [00:07, 160.77it/s]\n"
     ]
    },
    {
     "name": "stdout",
     "output_type": "stream",
     "text": [
      "--------------------------------------------------\n",
      "Epoch: 2\n",
      "Train AUC: 0.778307057746295\n",
      "Validation AUC: 0.7707310114198662\n"
     ]
    },
    {
     "name": "stderr",
     "output_type": "stream",
     "text": [
      "1217it [00:07, 163.82it/s]\n"
     ]
    },
    {
     "name": "stdout",
     "output_type": "stream",
     "text": [
      "--------------------------------------------------\n",
      "Epoch: 3\n",
      "Train AUC: 0.782618339800055\n",
      "Validation AUC: 0.7712242511491899\n"
     ]
    },
    {
     "name": "stderr",
     "output_type": "stream",
     "text": [
      "1217it [00:07, 161.39it/s]\n"
     ]
    },
    {
     "name": "stdout",
     "output_type": "stream",
     "text": [
      "--------------------------------------------------\n",
      "Epoch: 4\n",
      "Train AUC: 0.780133675111255\n",
      "Validation AUC: 0.773985601793339\n"
     ]
    },
    {
     "name": "stderr",
     "output_type": "stream",
     "text": [
      "1217it [00:07, 163.22it/s]\n"
     ]
    },
    {
     "name": "stdout",
     "output_type": "stream",
     "text": [
      "--------------------------------------------------\n",
      "Epoch: 5\n",
      "Train AUC: 0.7833683446319767\n",
      "Validation AUC: 0.7757033838646497\n"
     ]
    },
    {
     "name": "stderr",
     "output_type": "stream",
     "text": [
      "1217it [00:07, 159.43it/s]\n"
     ]
    },
    {
     "name": "stdout",
     "output_type": "stream",
     "text": [
      "--------------------------------------------------\n",
      "Epoch: 6\n",
      "Train AUC: 0.7850714460008601\n",
      "Validation AUC: 0.7792255395496014\n"
     ]
    },
    {
     "name": "stderr",
     "output_type": "stream",
     "text": [
      "1217it [00:07, 162.69it/s]\n"
     ]
    },
    {
     "name": "stdout",
     "output_type": "stream",
     "text": [
      "--------------------------------------------------\n",
      "Epoch: 7\n",
      "Train AUC: 0.7875431249003416\n",
      "Validation AUC: 0.7766046766584963\n"
     ]
    },
    {
     "name": "stderr",
     "output_type": "stream",
     "text": [
      "1217it [00:07, 160.19it/s]\n"
     ]
    },
    {
     "name": "stdout",
     "output_type": "stream",
     "text": [
      "--------------------------------------------------\n",
      "Epoch: 8\n",
      "Train AUC: 0.7803397867672995\n",
      "Validation AUC: 0.7782657527640326\n"
     ]
    },
    {
     "name": "stderr",
     "output_type": "stream",
     "text": [
      "1217it [00:07, 160.25it/s]\n"
     ]
    },
    {
     "name": "stdout",
     "output_type": "stream",
     "text": [
      "--------------------------------------------------\n",
      "Epoch: 9\n",
      "Train AUC: 0.7868575960223622\n",
      "Validation AUC: 0.7797933655041773\n"
     ]
    },
    {
     "name": "stderr",
     "output_type": "stream",
     "text": [
      "1217it [00:07, 161.95it/s]\n"
     ]
    },
    {
     "name": "stdout",
     "output_type": "stream",
     "text": [
      "--------------------------------------------------\n",
      "Epoch: 10\n",
      "Train AUC: 0.7836351573032079\n",
      "Validation AUC: 0.7778882238567617\n"
     ]
    },
    {
     "name": "stderr",
     "output_type": "stream",
     "text": [
      "1217it [00:07, 159.81it/s]\n"
     ]
    },
    {
     "name": "stdout",
     "output_type": "stream",
     "text": [
      "--------------------------------------------------\n",
      "Epoch: 11\n",
      "Train AUC: 0.7851090443908639\n",
      "Validation AUC: 0.7775205290922039\n"
     ]
    },
    {
     "name": "stderr",
     "output_type": "stream",
     "text": [
      "1217it [00:09, 127.40it/s]\n"
     ]
    },
    {
     "name": "stdout",
     "output_type": "stream",
     "text": [
      "--------------------------------------------------\n",
      "Epoch: 12\n",
      "Train AUC: 0.7865951622800872\n",
      "Validation AUC: 0.7788038208581912\n"
     ]
    },
    {
     "name": "stderr",
     "output_type": "stream",
     "text": [
      "1217it [00:07, 152.45it/s]\n"
     ]
    },
    {
     "name": "stdout",
     "output_type": "stream",
     "text": [
      "--------------------------------------------------\n",
      "Epoch: 13\n",
      "Train AUC: 0.7892284085582996\n",
      "Validation AUC: 0.7770735226052459\n"
     ]
    },
    {
     "name": "stderr",
     "output_type": "stream",
     "text": [
      "1217it [00:07, 158.71it/s]\n"
     ]
    },
    {
     "name": "stdout",
     "output_type": "stream",
     "text": [
      "--------------------------------------------------\n",
      "Epoch: 14\n",
      "Train AUC: 0.7844257804761376\n",
      "Validation AUC: 0.7788625702821913\n",
      "BEST_AUC 0.7797933655041773 Epoch: 9\n"
     ]
    }
   ],
   "source": [
    "# model.train()\n",
    "# best_auc = -1\n",
    "# best_epoch = -1\n",
    "# for epoch in range(cfg.num_epochs):\n",
    "    \n",
    "#     dataloader_train = get_dataloader('train', batch_size)\n",
    "    \n",
    "#     dataloader_val = get_dataloader('val', batch_size)\n",
    "    \n",
    "#     train_epoch(model, dataloader_train, cfg, optimizer, scheduler, epoch)\n",
    "    \n",
    "#     auc = validate(model, dataloader_val, cfg)\n",
    "    \n",
    "#     if auc > best_auc:\n",
    "#         best_epoch = epoch\n",
    "#         best_auc = auc\n",
    "        \n",
    "#     elif epoch >= best_epoch + cfg.early_stopping_epochs:\n",
    "#         print('Результат на валидации не улучшался в течение {} эпох'.format(cfg.early_stopping_epochs))\n",
    "#         break\n",
    "\n",
    "# print(\"BEST_AUC\", best_auc, \"Epoch:\", best_epoch)"
   ]
  },
  {
   "cell_type": "code",
   "execution_count": 10,
   "id": "79b6955b-fedd-44a0-810a-4cc3ea73f337",
   "metadata": {
    "tags": []
   },
   "outputs": [],
   "source": [
    "best_epoch = 9"
   ]
  },
  {
   "cell_type": "markdown",
   "id": "9bd0d43f-3a3d-4640-b5e8-5372b79761f0",
   "metadata": {
    "tags": []
   },
   "source": [
    "### Training on train_full (without val)"
   ]
  },
  {
   "cell_type": "code",
   "execution_count": 11,
   "id": "06bc08f7-9b1a-472f-873e-b263cd2d6cfb",
   "metadata": {
    "tags": []
   },
   "outputs": [
    {
     "name": "stdout",
     "output_type": "stream",
     "text": [
      "Результат на валидации лишь отражает точность на последних 3-х месяцах трейна!\n"
     ]
    },
    {
     "name": "stderr",
     "output_type": "stream",
     "text": [
      "1463it [00:10, 133.41it/s]\n"
     ]
    },
    {
     "name": "stdout",
     "output_type": "stream",
     "text": [
      "--------------------------------------------------\n",
      "Epoch: 0\n",
      "Train AUC: 0.5187938130215288\n",
      "Validation AUC: 0.7558057202526123\n"
     ]
    },
    {
     "name": "stderr",
     "output_type": "stream",
     "text": [
      "1463it [00:10, 140.09it/s]\n"
     ]
    },
    {
     "name": "stdout",
     "output_type": "stream",
     "text": [
      "--------------------------------------------------\n",
      "Epoch: 1\n",
      "Train AUC: 0.7559974221774477\n",
      "Validation AUC: 0.7734581341387283\n"
     ]
    },
    {
     "name": "stderr",
     "output_type": "stream",
     "text": [
      "1463it [00:10, 137.22it/s]\n"
     ]
    },
    {
     "name": "stdout",
     "output_type": "stream",
     "text": [
      "--------------------------------------------------\n",
      "Epoch: 2\n",
      "Train AUC: 0.7760119460567898\n",
      "Validation AUC: 0.7767036566663227\n"
     ]
    },
    {
     "name": "stderr",
     "output_type": "stream",
     "text": [
      "1463it [00:10, 141.34it/s]\n"
     ]
    },
    {
     "name": "stdout",
     "output_type": "stream",
     "text": [
      "--------------------------------------------------\n",
      "Epoch: 3\n",
      "Train AUC: 0.7769633035771758\n",
      "Validation AUC: 0.7758247141968238\n"
     ]
    },
    {
     "name": "stderr",
     "output_type": "stream",
     "text": [
      "1463it [00:10, 142.76it/s]\n"
     ]
    },
    {
     "name": "stdout",
     "output_type": "stream",
     "text": [
      "--------------------------------------------------\n",
      "Epoch: 4\n",
      "Train AUC: 0.7785081579961031\n",
      "Validation AUC: 0.7782693288159284\n"
     ]
    },
    {
     "name": "stderr",
     "output_type": "stream",
     "text": [
      "1463it [00:10, 141.98it/s]\n"
     ]
    },
    {
     "name": "stdout",
     "output_type": "stream",
     "text": [
      "--------------------------------------------------\n",
      "Epoch: 5\n",
      "Train AUC: 0.7790579759750617\n",
      "Validation AUC: 0.7798067756987861\n"
     ]
    },
    {
     "name": "stderr",
     "output_type": "stream",
     "text": [
      "1463it [00:10, 138.31it/s]\n"
     ]
    },
    {
     "name": "stdout",
     "output_type": "stream",
     "text": [
      "--------------------------------------------------\n",
      "Epoch: 6\n",
      "Train AUC: 0.7791010163139487\n",
      "Validation AUC: 0.778493342923964\n"
     ]
    },
    {
     "name": "stderr",
     "output_type": "stream",
     "text": [
      "1463it [00:10, 141.25it/s]\n"
     ]
    },
    {
     "name": "stdout",
     "output_type": "stream",
     "text": [
      "--------------------------------------------------\n",
      "Epoch: 7\n",
      "Train AUC: 0.7793886330592715\n",
      "Validation AUC: 0.7810803610381993\n"
     ]
    },
    {
     "name": "stderr",
     "output_type": "stream",
     "text": [
      "1463it [00:10, 141.78it/s]\n"
     ]
    },
    {
     "name": "stdout",
     "output_type": "stream",
     "text": [
      "--------------------------------------------------\n",
      "Epoch: 8\n",
      "Train AUC: 0.780235007913292\n",
      "Validation AUC: 0.7820075802082895\n"
     ]
    },
    {
     "name": "stderr",
     "output_type": "stream",
     "text": [
      "1463it [00:10, 141.87it/s]\n"
     ]
    },
    {
     "name": "stdout",
     "output_type": "stream",
     "text": [
      "--------------------------------------------------\n",
      "Epoch: 9\n",
      "Train AUC: 0.7792519767904016\n",
      "Validation AUC: 0.7802366682231007\n"
     ]
    }
   ],
   "source": [
    "seed_everything(0)\n",
    "model = ChurnPredictor(di_features, embedding_projections, rnn_units=cfg.rnn_units, spatial_dropout=cfg.spatial_dropout, \n",
    "            use_embeds_pooling=cfg.use_embeds_pooling, is_bidirectional=cfg.is_bidirectional).to(device)\n",
    "\n",
    "optimizer = torch.optim.AdamW(lr=cfg.max_lr, params=model.parameters())\n",
    "scheduler = torch.optim.lr_scheduler.CyclicLR(optimizer, base_lr=cfg.min_lr, max_lr=cfg.max_lr, cycle_momentum = False)\n",
    "\n",
    "\n",
    "model.train()\n",
    "\n",
    "print('Результат на валидации лишь отражает точность на последних 3-х месяцах трейна!')\n",
    "\n",
    "for epoch in range(best_epoch + 1):\n",
    "    \n",
    "    dataloader_train = get_dataloader('train_full', batch_size)\n",
    "    dataloader_val = get_dataloader('val', batch_size) # Эта валидация содержится в трейне!!!\n",
    "    \n",
    "    train_epoch(model, dataloader_train, cfg, optimizer, scheduler, epoch)\n",
    "    \n",
    "    auc = validate(model, dataloader_val, cfg)"
   ]
  },
  {
   "cell_type": "code",
   "execution_count": 12,
   "id": "cf14f5c1-4ef2-4685-adc1-660b49627569",
   "metadata": {
    "tags": []
   },
   "outputs": [
    {
     "data": {
      "text/html": [
       "<div>\n",
       "<style scoped>\n",
       "    .dataframe tbody tr th:only-of-type {\n",
       "        vertical-align: middle;\n",
       "    }\n",
       "\n",
       "    .dataframe tbody tr th {\n",
       "        vertical-align: top;\n",
       "    }\n",
       "\n",
       "    .dataframe thead th {\n",
       "        text-align: right;\n",
       "    }\n",
       "</style>\n",
       "<table border=\"1\" class=\"dataframe\">\n",
       "  <thead>\n",
       "    <tr style=\"text-align: right;\">\n",
       "      <th></th>\n",
       "      <th>clientbankpartner_pin</th>\n",
       "      <th>score</th>\n",
       "    </tr>\n",
       "  </thead>\n",
       "  <tbody>\n",
       "    <tr>\n",
       "      <th>0</th>\n",
       "      <td>6781</td>\n",
       "      <td>0.006357</td>\n",
       "    </tr>\n",
       "    <tr>\n",
       "      <th>1</th>\n",
       "      <td>236905</td>\n",
       "      <td>0.039373</td>\n",
       "    </tr>\n",
       "    <tr>\n",
       "      <th>2</th>\n",
       "      <td>125779</td>\n",
       "      <td>0.188521</td>\n",
       "    </tr>\n",
       "    <tr>\n",
       "      <th>3</th>\n",
       "      <td>1952</td>\n",
       "      <td>0.219963</td>\n",
       "    </tr>\n",
       "    <tr>\n",
       "      <th>4</th>\n",
       "      <td>4872</td>\n",
       "      <td>0.500983</td>\n",
       "    </tr>\n",
       "    <tr>\n",
       "      <th>...</th>\n",
       "      <td>...</td>\n",
       "      <td>...</td>\n",
       "    </tr>\n",
       "    <tr>\n",
       "      <th>4503</th>\n",
       "      <td>121120</td>\n",
       "      <td>0.404237</td>\n",
       "    </tr>\n",
       "    <tr>\n",
       "      <th>4504</th>\n",
       "      <td>60667</td>\n",
       "      <td>0.611074</td>\n",
       "    </tr>\n",
       "    <tr>\n",
       "      <th>4505</th>\n",
       "      <td>5065</td>\n",
       "      <td>0.611959</td>\n",
       "    </tr>\n",
       "    <tr>\n",
       "      <th>4506</th>\n",
       "      <td>133125</td>\n",
       "      <td>0.508919</td>\n",
       "    </tr>\n",
       "    <tr>\n",
       "      <th>4507</th>\n",
       "      <td>121963</td>\n",
       "      <td>0.530765</td>\n",
       "    </tr>\n",
       "  </tbody>\n",
       "</table>\n",
       "<p>4508 rows × 2 columns</p>\n",
       "</div>"
      ],
      "text/plain": [
       "      clientbankpartner_pin     score\n",
       "0                      6781  0.006357\n",
       "1                    236905  0.039373\n",
       "2                    125779  0.188521\n",
       "3                      1952  0.219963\n",
       "4                      4872  0.500983\n",
       "...                     ...       ...\n",
       "4503                 121120  0.404237\n",
       "4504                  60667  0.611074\n",
       "4505                   5065  0.611959\n",
       "4506                 133125  0.508919\n",
       "4507                 121963  0.530765\n",
       "\n",
       "[4508 rows x 2 columns]"
      ]
     },
     "execution_count": 12,
     "metadata": {},
     "output_type": "execute_result"
    }
   ],
   "source": [
    "dataloader_test = get_dataloader('test', batch_size)\n",
    "inference(model, dataloader_test, device, di_features, path_to_sample_submission='data/submission_example.csv', path_to_save='submissions/rnn.csv')"
   ]
  },
  {
   "cell_type": "code",
   "execution_count": 13,
   "id": "661472c3-b5ef-40ea-b88c-c03b26b1c4d1",
   "metadata": {
    "tags": []
   },
   "outputs": [],
   "source": [
    "torch.save(model, 'weights/rnn.pt') # Сохраним веса"
   ]
  },
  {
   "cell_type": "code",
   "execution_count": null,
   "id": "4ef0e740-9420-473d-a261-3bee2494374e",
   "metadata": {},
   "outputs": [],
   "source": []
  }
 ],
 "metadata": {
  "kernelspec": {
   "display_name": "Python 3 (ipykernel)",
   "language": "python",
   "name": "python3"
  },
  "language_info": {
   "codemirror_mode": {
    "name": "ipython",
    "version": 3
   },
   "file_extension": ".py",
   "mimetype": "text/x-python",
   "name": "python",
   "nbconvert_exporter": "python",
   "pygments_lexer": "ipython3",
   "version": "3.11.4"
  }
 },
 "nbformat": 4,
 "nbformat_minor": 5
}
