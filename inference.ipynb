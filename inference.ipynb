{
 "cells": [
  {
   "cell_type": "code",
   "execution_count": 1,
   "id": "e9f1dc8c-b441-427f-8a34-783bfb37116d",
   "metadata": {
    "tags": []
   },
   "outputs": [],
   "source": [
    "import pandas as pd\n",
    "from lightgbm import Booster\n",
    "\n",
    "import torch\n",
    "\n",
    "import os\n",
    "import pickle\n",
    "\n",
    "import warnings\n",
    "warnings.filterwarnings('ignore')"
   ]
  },
  {
   "cell_type": "markdown",
   "id": "3a27e1f3-964a-493a-98eb-2ca36354933e",
   "metadata": {},
   "source": [
    "# Boosting"
   ]
  },
  {
   "cell_type": "code",
   "execution_count": 2,
   "id": "776c60c5-30aa-484e-aa4f-5b5f8098ee28",
   "metadata": {
    "tags": []
   },
   "outputs": [],
   "source": [
    "X_train_full = pd.read_parquet('data/X_train_full_processed.parquet').drop(columns=['partition'])\n",
    "X_test = pd.read_parquet('data/X_test_processed.parquet')"
   ]
  },
  {
   "cell_type": "code",
   "execution_count": 3,
   "id": "20cd6890-f374-43e1-a739-2672b852a237",
   "metadata": {
    "tags": []
   },
   "outputs": [],
   "source": [
    "cat_cols = ['type']\n",
    "num_cols = [col for col in X_train_full if col not in cat_cols]"
   ]
  },
  {
   "cell_type": "code",
   "execution_count": 4,
   "id": "7925e06b-6215-4884-a2d7-de3e788032a1",
   "metadata": {
    "tags": []
   },
   "outputs": [],
   "source": [
    "X_test_scaled = X_test.copy()\n",
    "\n",
    "X_test_scaled[num_cols] = X_test_scaled[num_cols] * X_train_full[num_cols].mean() / X_test[num_cols].mean()"
   ]
  },
  {
   "cell_type": "code",
   "execution_count": 5,
   "id": "d6d5c743-372e-46e4-bb8b-e9290a843fc8",
   "metadata": {
    "tags": []
   },
   "outputs": [],
   "source": [
    "model_l = Booster(model_file='weights/lightgbm_without_validation.txt')"
   ]
  },
  {
   "cell_type": "code",
   "execution_count": 6,
   "id": "b0bce672-d071-4a27-9f9b-7b4b1cbc044a",
   "metadata": {
    "tags": []
   },
   "outputs": [],
   "source": [
    "preds = model_l.predict(X_test_scaled)"
   ]
  },
  {
   "cell_type": "code",
   "execution_count": 7,
   "id": "c79e1e1d-ace1-4b7f-aa45-e7f0bec511a8",
   "metadata": {
    "tags": []
   },
   "outputs": [
    {
     "data": {
      "text/html": [
       "<div>\n",
       "<style scoped>\n",
       "    .dataframe tbody tr th:only-of-type {\n",
       "        vertical-align: middle;\n",
       "    }\n",
       "\n",
       "    .dataframe tbody tr th {\n",
       "        vertical-align: top;\n",
       "    }\n",
       "\n",
       "    .dataframe thead th {\n",
       "        text-align: right;\n",
       "    }\n",
       "</style>\n",
       "<table border=\"1\" class=\"dataframe\">\n",
       "  <thead>\n",
       "    <tr style=\"text-align: right;\">\n",
       "      <th></th>\n",
       "      <th>clientbankpartner_pin</th>\n",
       "      <th>score</th>\n",
       "    </tr>\n",
       "  </thead>\n",
       "  <tbody>\n",
       "    <tr>\n",
       "      <th>0</th>\n",
       "      <td>6781</td>\n",
       "      <td>0.013787</td>\n",
       "    </tr>\n",
       "    <tr>\n",
       "      <th>1</th>\n",
       "      <td>236905</td>\n",
       "      <td>0.064307</td>\n",
       "    </tr>\n",
       "    <tr>\n",
       "      <th>2</th>\n",
       "      <td>125779</td>\n",
       "      <td>0.217228</td>\n",
       "    </tr>\n",
       "    <tr>\n",
       "      <th>3</th>\n",
       "      <td>1952</td>\n",
       "      <td>0.212962</td>\n",
       "    </tr>\n",
       "    <tr>\n",
       "      <th>4</th>\n",
       "      <td>4872</td>\n",
       "      <td>0.569838</td>\n",
       "    </tr>\n",
       "    <tr>\n",
       "      <th>...</th>\n",
       "      <td>...</td>\n",
       "      <td>...</td>\n",
       "    </tr>\n",
       "    <tr>\n",
       "      <th>4503</th>\n",
       "      <td>121120</td>\n",
       "      <td>0.400931</td>\n",
       "    </tr>\n",
       "    <tr>\n",
       "      <th>4504</th>\n",
       "      <td>60667</td>\n",
       "      <td>0.627254</td>\n",
       "    </tr>\n",
       "    <tr>\n",
       "      <th>4505</th>\n",
       "      <td>5065</td>\n",
       "      <td>0.657438</td>\n",
       "    </tr>\n",
       "    <tr>\n",
       "      <th>4506</th>\n",
       "      <td>133125</td>\n",
       "      <td>0.429514</td>\n",
       "    </tr>\n",
       "    <tr>\n",
       "      <th>4507</th>\n",
       "      <td>121963</td>\n",
       "      <td>0.468515</td>\n",
       "    </tr>\n",
       "  </tbody>\n",
       "</table>\n",
       "<p>4508 rows × 2 columns</p>\n",
       "</div>"
      ],
      "text/plain": [
       "      clientbankpartner_pin     score\n",
       "0                      6781  0.013787\n",
       "1                    236905  0.064307\n",
       "2                    125779  0.217228\n",
       "3                      1952  0.212962\n",
       "4                      4872  0.569838\n",
       "...                     ...       ...\n",
       "4503                 121120  0.400931\n",
       "4504                  60667  0.627254\n",
       "4505                   5065  0.657438\n",
       "4506                 133125  0.429514\n",
       "4507                 121963  0.468515\n",
       "\n",
       "[4508 rows x 2 columns]"
      ]
     },
     "execution_count": 7,
     "metadata": {},
     "output_type": "execute_result"
    }
   ],
   "source": [
    "submit = pd.read_csv('data/submission_example.csv')\n",
    "\n",
    "submit['score'] = preds\n",
    "submit"
   ]
  },
  {
   "cell_type": "code",
   "execution_count": 8,
   "id": "1dfe2f80-f83d-46ed-9851-3ff330cd49ee",
   "metadata": {
    "tags": []
   },
   "outputs": [],
   "source": [
    "submit.to_csv(f'submissions/lightgbm.csv', index=False)"
   ]
  },
  {
   "cell_type": "markdown",
   "id": "bcd9e273-c114-481c-8f54-2ef60453742c",
   "metadata": {},
   "source": [
    "# RNN"
   ]
  },
  {
   "cell_type": "code",
   "execution_count": 9,
   "id": "13fd5df2-f4e8-4c34-be7b-c7b7d5878fad",
   "metadata": {},
   "outputs": [],
   "source": [
    "from rnn_model import ChurnPredictor\n",
    "from data_generators import batches_generator\n",
    "from pytorch_training import inference"
   ]
  },
  {
   "cell_type": "code",
   "execution_count": 10,
   "id": "ab547716-3cd1-4243-82ed-02fb7f10eecd",
   "metadata": {
    "tags": []
   },
   "outputs": [],
   "source": [
    "with open('constants/di_features.pkl', 'rb') as f:\n",
    "     di_features = pickle.load(f) \n",
    "        \n",
    "device = torch.device('cpu')"
   ]
  },
  {
   "cell_type": "code",
   "execution_count": 11,
   "id": "9850b6ba-abf6-4579-b162-df6472f3cce3",
   "metadata": {
    "tags": []
   },
   "outputs": [],
   "source": [
    "model_rnn = torch.load('weights/rnn.pt')"
   ]
  },
  {
   "cell_type": "code",
   "execution_count": 12,
   "id": "3cecd2bd-70b9-4f60-852b-f1195aab304e",
   "metadata": {
    "tags": []
   },
   "outputs": [],
   "source": [
    "batch_size = 2**6"
   ]
  },
  {
   "cell_type": "code",
   "execution_count": 13,
   "id": "2604729c-8c3a-43a7-8a5d-0482d48d9e86",
   "metadata": {
    "tags": []
   },
   "outputs": [],
   "source": [
    "# Путь к бакетам\n",
    "\n",
    "path_to_dataset = 'buckets/test'\n",
    "dir_with_datasets = os.listdir(path_to_dataset)\n",
    "dataset_test = sorted([os.path.join(path_to_dataset, x) for x in dir_with_datasets if x.endswith('pkl')])"
   ]
  },
  {
   "cell_type": "code",
   "execution_count": 14,
   "id": "e1594f9c-2a8f-4ced-9d04-f0bc4cf44ff7",
   "metadata": {
    "tags": []
   },
   "outputs": [
    {
     "data": {
      "text/html": [
       "<div>\n",
       "<style scoped>\n",
       "    .dataframe tbody tr th:only-of-type {\n",
       "        vertical-align: middle;\n",
       "    }\n",
       "\n",
       "    .dataframe tbody tr th {\n",
       "        vertical-align: top;\n",
       "    }\n",
       "\n",
       "    .dataframe thead th {\n",
       "        text-align: right;\n",
       "    }\n",
       "</style>\n",
       "<table border=\"1\" class=\"dataframe\">\n",
       "  <thead>\n",
       "    <tr style=\"text-align: right;\">\n",
       "      <th></th>\n",
       "      <th>clientbankpartner_pin</th>\n",
       "      <th>score</th>\n",
       "    </tr>\n",
       "  </thead>\n",
       "  <tbody>\n",
       "    <tr>\n",
       "      <th>0</th>\n",
       "      <td>6781</td>\n",
       "      <td>0.006357</td>\n",
       "    </tr>\n",
       "    <tr>\n",
       "      <th>1</th>\n",
       "      <td>236905</td>\n",
       "      <td>0.039373</td>\n",
       "    </tr>\n",
       "    <tr>\n",
       "      <th>2</th>\n",
       "      <td>125779</td>\n",
       "      <td>0.188521</td>\n",
       "    </tr>\n",
       "    <tr>\n",
       "      <th>3</th>\n",
       "      <td>1952</td>\n",
       "      <td>0.219963</td>\n",
       "    </tr>\n",
       "    <tr>\n",
       "      <th>4</th>\n",
       "      <td>4872</td>\n",
       "      <td>0.500983</td>\n",
       "    </tr>\n",
       "    <tr>\n",
       "      <th>...</th>\n",
       "      <td>...</td>\n",
       "      <td>...</td>\n",
       "    </tr>\n",
       "    <tr>\n",
       "      <th>4503</th>\n",
       "      <td>121120</td>\n",
       "      <td>0.404237</td>\n",
       "    </tr>\n",
       "    <tr>\n",
       "      <th>4504</th>\n",
       "      <td>60667</td>\n",
       "      <td>0.611074</td>\n",
       "    </tr>\n",
       "    <tr>\n",
       "      <th>4505</th>\n",
       "      <td>5065</td>\n",
       "      <td>0.611959</td>\n",
       "    </tr>\n",
       "    <tr>\n",
       "      <th>4506</th>\n",
       "      <td>133125</td>\n",
       "      <td>0.508919</td>\n",
       "    </tr>\n",
       "    <tr>\n",
       "      <th>4507</th>\n",
       "      <td>121963</td>\n",
       "      <td>0.530765</td>\n",
       "    </tr>\n",
       "  </tbody>\n",
       "</table>\n",
       "<p>4508 rows × 2 columns</p>\n",
       "</div>"
      ],
      "text/plain": [
       "      clientbankpartner_pin     score\n",
       "0                      6781  0.006357\n",
       "1                    236905  0.039373\n",
       "2                    125779  0.188521\n",
       "3                      1952  0.219963\n",
       "4                      4872  0.500983\n",
       "...                     ...       ...\n",
       "4503                 121120  0.404237\n",
       "4504                  60667  0.611074\n",
       "4505                   5065  0.611959\n",
       "4506                 133125  0.508919\n",
       "4507                 121963  0.530765\n",
       "\n",
       "[4508 rows x 2 columns]"
      ]
     },
     "execution_count": 14,
     "metadata": {},
     "output_type": "execute_result"
    }
   ],
   "source": [
    "dataloader_test = batches_generator(dataset_test,\n",
    "                                     batch_size = batch_size,\n",
    "                                     has_target=False,\n",
    "                                     shuffle=False,\n",
    "                                     di_features = di_features)\n",
    "\n",
    "inference(model_rnn, dataloader_test, device, di_features, path_to_sample_submission='data/submission_example.csv', path_to_save='submissions/rnn.csv')"
   ]
  },
  {
   "cell_type": "markdown",
   "id": "6b9f7cd7-cce0-4e51-82e9-04c8f0e8861f",
   "metadata": {},
   "source": [
    "# Blending"
   ]
  },
  {
   "cell_type": "code",
   "execution_count": 15,
   "id": "5a8beb4e-4867-4270-90f4-ba76880e9663",
   "metadata": {
    "tags": []
   },
   "outputs": [],
   "source": [
    "lightgbm_preds = pd.read_csv(\"submissions/lightgbm.csv\")\n",
    "rnn_preds = pd.read_csv(\"submissions/rnn.csv\")\n",
    "\n",
    "preds = [lightgbm_preds, rnn_preds]\n",
    "weights = [1, 0.6]\n",
    "\n",
    "submit = lightgbm_preds.copy()\n",
    "\n",
    "submit['score'] = sum(pred['score'] * weights[i] for i, pred in enumerate(preds)) / sum(weights)\n",
    "\n",
    "submit.to_csv('submissions/blended_lgbm_rnn.csv', index=False)"
   ]
  },
  {
   "cell_type": "code",
   "execution_count": 16,
   "id": "1bf36fb6-ef8d-48ae-8e6e-aae7c836eff2",
   "metadata": {
    "tags": []
   },
   "outputs": [
    {
     "data": {
      "text/html": [
       "<div>\n",
       "<style scoped>\n",
       "    .dataframe tbody tr th:only-of-type {\n",
       "        vertical-align: middle;\n",
       "    }\n",
       "\n",
       "    .dataframe tbody tr th {\n",
       "        vertical-align: top;\n",
       "    }\n",
       "\n",
       "    .dataframe thead th {\n",
       "        text-align: right;\n",
       "    }\n",
       "</style>\n",
       "<table border=\"1\" class=\"dataframe\">\n",
       "  <thead>\n",
       "    <tr style=\"text-align: right;\">\n",
       "      <th></th>\n",
       "      <th>clientbankpartner_pin</th>\n",
       "      <th>score</th>\n",
       "    </tr>\n",
       "  </thead>\n",
       "  <tbody>\n",
       "    <tr>\n",
       "      <th>0</th>\n",
       "      <td>6781</td>\n",
       "      <td>0.011001</td>\n",
       "    </tr>\n",
       "    <tr>\n",
       "      <th>1</th>\n",
       "      <td>236905</td>\n",
       "      <td>0.054957</td>\n",
       "    </tr>\n",
       "    <tr>\n",
       "      <th>2</th>\n",
       "      <td>125779</td>\n",
       "      <td>0.206463</td>\n",
       "    </tr>\n",
       "    <tr>\n",
       "      <th>3</th>\n",
       "      <td>1952</td>\n",
       "      <td>0.215587</td>\n",
       "    </tr>\n",
       "    <tr>\n",
       "      <th>4</th>\n",
       "      <td>4872</td>\n",
       "      <td>0.544017</td>\n",
       "    </tr>\n",
       "    <tr>\n",
       "      <th>...</th>\n",
       "      <td>...</td>\n",
       "      <td>...</td>\n",
       "    </tr>\n",
       "    <tr>\n",
       "      <th>4503</th>\n",
       "      <td>121120</td>\n",
       "      <td>0.402171</td>\n",
       "    </tr>\n",
       "    <tr>\n",
       "      <th>4504</th>\n",
       "      <td>60667</td>\n",
       "      <td>0.621187</td>\n",
       "    </tr>\n",
       "    <tr>\n",
       "      <th>4505</th>\n",
       "      <td>5065</td>\n",
       "      <td>0.640383</td>\n",
       "    </tr>\n",
       "    <tr>\n",
       "      <th>4506</th>\n",
       "      <td>133125</td>\n",
       "      <td>0.459291</td>\n",
       "    </tr>\n",
       "    <tr>\n",
       "      <th>4507</th>\n",
       "      <td>121963</td>\n",
       "      <td>0.491859</td>\n",
       "    </tr>\n",
       "  </tbody>\n",
       "</table>\n",
       "<p>4508 rows × 2 columns</p>\n",
       "</div>"
      ],
      "text/plain": [
       "      clientbankpartner_pin     score\n",
       "0                      6781  0.011001\n",
       "1                    236905  0.054957\n",
       "2                    125779  0.206463\n",
       "3                      1952  0.215587\n",
       "4                      4872  0.544017\n",
       "...                     ...       ...\n",
       "4503                 121120  0.402171\n",
       "4504                  60667  0.621187\n",
       "4505                   5065  0.640383\n",
       "4506                 133125  0.459291\n",
       "4507                 121963  0.491859\n",
       "\n",
       "[4508 rows x 2 columns]"
      ]
     },
     "execution_count": 16,
     "metadata": {},
     "output_type": "execute_result"
    }
   ],
   "source": [
    "submit"
   ]
  },
  {
   "cell_type": "code",
   "execution_count": null,
   "id": "dd2c0494-3c30-48bd-8bc0-1bebbe44fb28",
   "metadata": {},
   "outputs": [],
   "source": []
  }
 ],
 "metadata": {
  "kernelspec": {
   "display_name": "Python 3 (ipykernel)",
   "language": "python",
   "name": "python3"
  },
  "language_info": {
   "codemirror_mode": {
    "name": "ipython",
    "version": 3
   },
   "file_extension": ".py",
   "mimetype": "text/x-python",
   "name": "python",
   "nbconvert_exporter": "python",
   "pygments_lexer": "ipython3",
   "version": "3.11.4"
  }
 },
 "nbformat": 4,
 "nbformat_minor": 5
}
