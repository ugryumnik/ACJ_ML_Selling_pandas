{
 "cells": [
  {
   "cell_type": "code",
   "execution_count": 1,
   "id": "f85af188-7cfb-43ea-b5ec-67e4ebf0029c",
   "metadata": {
    "tags": []
   },
   "outputs": [],
   "source": [
    "import pandas as pd\n",
    "import numpy as np\n",
    "from scipy.stats import mode"
   ]
  },
  {
   "cell_type": "code",
   "execution_count": 2,
   "id": "60b3a12d-a052-47a7-b7a1-9f7ff27efa28",
   "metadata": {
    "tags": []
   },
   "outputs": [],
   "source": [
    "# Считываем данные\n",
    "df = pd.read_csv('data/dataset.csv')\n",
    "sample_submission = pd.read_csv('data/submission_example.csv')"
   ]
  },
  {
   "cell_type": "code",
   "execution_count": 3,
   "id": "ab2cbc3a-eace-4820-b2c6-9a9f459e997f",
   "metadata": {
    "tags": []
   },
   "outputs": [
    {
     "data": {
      "text/html": [
       "<div>\n",
       "<style scoped>\n",
       "    .dataframe tbody tr th:only-of-type {\n",
       "        vertical-align: middle;\n",
       "    }\n",
       "\n",
       "    .dataframe tbody tr th {\n",
       "        vertical-align: top;\n",
       "    }\n",
       "\n",
       "    .dataframe thead th {\n",
       "        text-align: right;\n",
       "    }\n",
       "</style>\n",
       "<table border=\"1\" class=\"dataframe\">\n",
       "  <thead>\n",
       "    <tr style=\"text-align: right;\">\n",
       "      <th></th>\n",
       "      <th>partner</th>\n",
       "      <th>client</th>\n",
       "      <th>type</th>\n",
       "      <th>time</th>\n",
       "      <th>start_time</th>\n",
       "    </tr>\n",
       "  </thead>\n",
       "  <tbody>\n",
       "    <tr>\n",
       "      <th>0</th>\n",
       "      <td>122027</td>\n",
       "      <td>5579</td>\n",
       "      <td>4</td>\n",
       "      <td>2019-06-25</td>\n",
       "      <td>2019-02-01</td>\n",
       "    </tr>\n",
       "    <tr>\n",
       "      <th>1</th>\n",
       "      <td>270277</td>\n",
       "      <td>5585</td>\n",
       "      <td>4</td>\n",
       "      <td>2020-05-07</td>\n",
       "      <td>2020-04-01</td>\n",
       "    </tr>\n",
       "    <tr>\n",
       "      <th>2</th>\n",
       "      <td>238679</td>\n",
       "      <td>5586</td>\n",
       "      <td>4</td>\n",
       "      <td>2020-02-27</td>\n",
       "      <td>2020-02-01</td>\n",
       "    </tr>\n",
       "    <tr>\n",
       "      <th>3</th>\n",
       "      <td>118398</td>\n",
       "      <td>5587</td>\n",
       "      <td>4</td>\n",
       "      <td>2020-03-26</td>\n",
       "      <td>2019-09-01</td>\n",
       "    </tr>\n",
       "    <tr>\n",
       "      <th>4</th>\n",
       "      <td>10402</td>\n",
       "      <td>5588</td>\n",
       "      <td>1</td>\n",
       "      <td>2019-04-05</td>\n",
       "      <td>2019-01-01</td>\n",
       "    </tr>\n",
       "    <tr>\n",
       "      <th>...</th>\n",
       "      <td>...</td>\n",
       "      <td>...</td>\n",
       "      <td>...</td>\n",
       "      <td>...</td>\n",
       "      <td>...</td>\n",
       "    </tr>\n",
       "    <tr>\n",
       "      <th>130813</th>\n",
       "      <td>4639</td>\n",
       "      <td>333509</td>\n",
       "      <td>5</td>\n",
       "      <td>2020-07-20</td>\n",
       "      <td>2020-03-01</td>\n",
       "    </tr>\n",
       "    <tr>\n",
       "      <th>130814</th>\n",
       "      <td>226754</td>\n",
       "      <td>333510</td>\n",
       "      <td>4</td>\n",
       "      <td>2020-07-19</td>\n",
       "      <td>2020-05-01</td>\n",
       "    </tr>\n",
       "    <tr>\n",
       "      <th>130815</th>\n",
       "      <td>2645</td>\n",
       "      <td>333511</td>\n",
       "      <td>5</td>\n",
       "      <td>2020-07-23</td>\n",
       "      <td>2020-05-01</td>\n",
       "    </tr>\n",
       "    <tr>\n",
       "      <th>130816</th>\n",
       "      <td>145720</td>\n",
       "      <td>333512</td>\n",
       "      <td>1</td>\n",
       "      <td>2020-07-25</td>\n",
       "      <td>2019-05-01</td>\n",
       "    </tr>\n",
       "    <tr>\n",
       "      <th>130817</th>\n",
       "      <td>281273</td>\n",
       "      <td>333513</td>\n",
       "      <td>4</td>\n",
       "      <td>2020-07-19</td>\n",
       "      <td>2020-04-01</td>\n",
       "    </tr>\n",
       "  </tbody>\n",
       "</table>\n",
       "<p>130818 rows × 5 columns</p>\n",
       "</div>"
      ],
      "text/plain": [
       "        partner  client  type        time  start_time\n",
       "0        122027    5579     4  2019-06-25  2019-02-01\n",
       "1        270277    5585     4  2020-05-07  2020-04-01\n",
       "2        238679    5586     4  2020-02-27  2020-02-01\n",
       "3        118398    5587     4  2020-03-26  2019-09-01\n",
       "4         10402    5588     1  2019-04-05  2019-01-01\n",
       "...         ...     ...   ...         ...         ...\n",
       "130813     4639  333509     5  2020-07-20  2020-03-01\n",
       "130814   226754  333510     4  2020-07-19  2020-05-01\n",
       "130815     2645  333511     5  2020-07-23  2020-05-01\n",
       "130816   145720  333512     1  2020-07-25  2019-05-01\n",
       "130817   281273  333513     4  2020-07-19  2020-04-01\n",
       "\n",
       "[130818 rows x 5 columns]"
      ]
     },
     "execution_count": 3,
     "metadata": {},
     "output_type": "execute_result"
    }
   ],
   "source": [
    "# Переименовываем названия стобцов\n",
    "\n",
    "df.rename(columns={'clientbankpartner_pin': 'partner',\n",
    "                   'client_pin': 'client',\n",
    "                   'partner_src_type_ccode': 'type',\n",
    "                   'client_start_date': 'time',\n",
    "                   'partnerrolestart_date': 'start_time'}, inplace=True)\n",
    "\n",
    "df"
   ]
  },
  {
   "cell_type": "markdown",
   "id": "b4d81b1a-be39-4984-a808-921d5c87cecf",
   "metadata": {},
   "source": [
    "### Решим проблему различных типов у партнера (заменим на самый частый, т.к. такая ситуация очень редкая)"
   ]
  },
  {
   "cell_type": "code",
   "execution_count": 4,
   "id": "3d2c5e54-47e1-4b79-87e6-5fac435479d3",
   "metadata": {
    "tags": []
   },
   "outputs": [],
   "source": [
    "nunique_types = df.groupby('partner')['type'].nunique()\n",
    "partners_multiple_types = nunique_types[nunique_types>1].index"
   ]
  },
  {
   "cell_type": "code",
   "execution_count": 5,
   "id": "75c6b829-1f22-4603-82dc-489a16f41ac4",
   "metadata": {
    "tags": []
   },
   "outputs": [],
   "source": [
    "def get_mode(x):\n",
    "    return mode(x, keepdims=True)[0][0]\n",
    "\n",
    "freq_types = df[df.partner.isin(partners_multiple_types)].groupby('partner')['type'].agg(get_mode).to_dict()"
   ]
  },
  {
   "cell_type": "code",
   "execution_count": 6,
   "id": "aeb50f6a-426d-4d15-9002-48da91b2a6cb",
   "metadata": {
    "tags": []
   },
   "outputs": [],
   "source": [
    "df.loc[df.partner.isin(partners_multiple_types), 'type'] = \\\n",
    "            df.loc[df.partner.isin(partners_multiple_types), 'partner'].map(freq_types)"
   ]
  },
  {
   "cell_type": "code",
   "execution_count": 7,
   "id": "1702f923-ad00-4ca8-973d-04141a46a2e9",
   "metadata": {
    "tags": []
   },
   "outputs": [],
   "source": [
    "assert all(df.groupby('partner')['type'].nunique() == 1)"
   ]
  },
  {
   "cell_type": "code",
   "execution_count": null,
   "id": "3eaf2e5b-2baf-4901-8abf-9604578cd7b3",
   "metadata": {},
   "outputs": [],
   "source": []
  },
  {
   "cell_type": "markdown",
   "id": "2ab7b11f-171d-48d0-9134-a741d179d906",
   "metadata": {
    "tags": []
   },
   "source": [
    "### Удалим редкие типы"
   ]
  },
  {
   "cell_type": "code",
   "execution_count": 8,
   "id": "2ba2b0b3-f812-4da7-b86c-9dce4986abeb",
   "metadata": {
    "tags": []
   },
   "outputs": [
    {
     "data": {
      "text/plain": [
       "type\n",
       "4    79181\n",
       "5    26643\n",
       "1    24589\n",
       "3      389\n",
       "0       15\n",
       "2        1\n",
       "Name: count, dtype: int64"
      ]
     },
     "execution_count": 8,
     "metadata": {},
     "output_type": "execute_result"
    }
   ],
   "source": [
    "df['type'].value_counts()"
   ]
  },
  {
   "cell_type": "code",
   "execution_count": 9,
   "id": "92f9c14e-8cb5-4b9e-8a6f-e9081bb401a3",
   "metadata": {
    "tags": []
   },
   "outputs": [],
   "source": [
    "df.loc[df.type.isin([0, 2]), 'type'] = 4 # Очень редкие типы, заменим их на самый частый"
   ]
  },
  {
   "cell_type": "code",
   "execution_count": 10,
   "id": "53cfa4a8-b561-44d4-b0d6-82fa6c3a1e03",
   "metadata": {},
   "outputs": [],
   "source": [
    "df['type'] -= 1 # Нулевой тип удалили, вычтем единицу, чтобы они с нуля начинались"
   ]
  },
  {
   "cell_type": "code",
   "execution_count": null,
   "id": "5393bdf8-0066-4539-bc26-9e328043bfb2",
   "metadata": {},
   "outputs": [],
   "source": []
  },
  {
   "cell_type": "code",
   "execution_count": 11,
   "id": "0d3e615a-ed05-4afb-ab61-276127083bdb",
   "metadata": {},
   "outputs": [],
   "source": [
    "df.to_csv('data/dataset_fixed.csv', index=False)"
   ]
  },
  {
   "cell_type": "code",
   "execution_count": null,
   "id": "82f5863d-a292-4f57-b0de-05cee6a65e8b",
   "metadata": {},
   "outputs": [],
   "source": []
  },
  {
   "cell_type": "code",
   "execution_count": null,
   "id": "5faff308-4e8c-467a-9398-ba360f740eb3",
   "metadata": {},
   "outputs": [],
   "source": []
  },
  {
   "cell_type": "markdown",
   "id": "2cb7dec5-444b-4e98-a5ef-64dbdd73669d",
   "metadata": {},
   "source": [
    "В данном соревновании это не требовалось, но в будущем может стать слишком много типов партнеров, поэтому следует убедиться, что они все лежат в промежутке от 0 до n-1. Это в особенности пригодится при построении нейронной сети"
   ]
  },
  {
   "cell_type": "code",
   "execution_count": 12,
   "id": "04be1d3f-8c16-48f7-a531-74b812f9bc50",
   "metadata": {
    "tags": []
   },
   "outputs": [],
   "source": [
    "# unique_types = np.unique(df['type'])\n",
    "# map_unique_types = dict(zip(unique_types, list(range(len(unique_types)))))\n",
    "# # map_unique_types_reverse = dict(zip(list(range(len(unique_types))), unique_types))\n",
    "# map_unique_types"
   ]
  },
  {
   "cell_type": "code",
   "execution_count": 13,
   "id": "b2d45c7b-6617-49f3-a718-7add197d545d",
   "metadata": {
    "tags": []
   },
   "outputs": [],
   "source": [
    "# df['type'] = df['type'].map(map_unique_types)"
   ]
  }
 ],
 "metadata": {
  "kernelspec": {
   "display_name": "Python 3 (ipykernel)",
   "language": "python",
   "name": "python3"
  },
  "language_info": {
   "codemirror_mode": {
    "name": "ipython",
    "version": 3
   },
   "file_extension": ".py",
   "mimetype": "text/x-python",
   "name": "python",
   "nbconvert_exporter": "python",
   "pygments_lexer": "ipython3",
   "version": "3.10.13"
  }
 },
 "nbformat": 4,
 "nbformat_minor": 5
}
